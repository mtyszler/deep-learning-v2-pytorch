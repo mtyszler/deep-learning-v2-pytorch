{
 "cells": [
  {
   "cell_type": "markdown",
   "metadata": {},
   "source": [
    "# Inference and Validation\n",
    "\n",
    "Now that you have a trained network, you can use it for making predictions. This is typically called **inference**, a term borrowed from statistics. However, neural networks have a tendency to perform *too well* on the training data and aren't able to generalize to data that hasn't been seen before. This is called **overfitting** and it impairs inference performance. To test for overfitting while training, we measure the performance on data not in the training set called the **validation** set. We avoid overfitting through regularization such as dropout while monitoring the validation performance during training. In this notebook, I'll show you how to do this in PyTorch. \n",
    "\n",
    "As usual, let's start by loading the dataset through torchvision. You'll learn more about torchvision and loading data in a later part. This time we'll be taking advantage of the test set which you can get by setting `train=False` here:\n",
    "\n",
    "```python\n",
    "testset = datasets.FashionMNIST('~/.pytorch/F_MNIST_data/', download=True, train=False, transform=transform)\n",
    "```\n",
    "\n",
    "The test set contains images just like the training set. Typically you'll see 10-20% of the original dataset held out for testing and validation with the rest being used for training."
   ]
  },
  {
   "cell_type": "code",
   "execution_count": 1,
   "metadata": {},
   "outputs": [],
   "source": [
    "import torch\n",
    "from torchvision import datasets, transforms\n",
    "\n",
    "# Define a transform to normalize the data\n",
    "transform = transforms.Compose([transforms.ToTensor(),\n",
    "                                transforms.Normalize((0.5,), (0.5,))])\n",
    "# Download and load the training data\n",
    "trainset = datasets.FashionMNIST('~/.pytorch/F_MNIST_data/', download=True, train=True, transform=transform)\n",
    "trainloader = torch.utils.data.DataLoader(trainset, batch_size=64, shuffle=True)\n",
    "\n",
    "# Download and load the test data\n",
    "testset = datasets.FashionMNIST('~/.pytorch/F_MNIST_data/', download=True, train=False, transform=transform)\n",
    "testloader = torch.utils.data.DataLoader(testset, batch_size=64, shuffle=True)"
   ]
  },
  {
   "cell_type": "markdown",
   "metadata": {},
   "source": [
    "Here I'll create a model like normal, using the same one from my solution for part 4."
   ]
  },
  {
   "cell_type": "code",
   "execution_count": 2,
   "metadata": {},
   "outputs": [],
   "source": [
    "from torch import nn, optim\n",
    "import torch.nn.functional as F\n",
    "\n",
    "class Classifier(nn.Module):\n",
    "    def __init__(self):\n",
    "        super().__init__()\n",
    "        self.fc1 = nn.Linear(784, 256)\n",
    "        self.fc2 = nn.Linear(256, 128)\n",
    "        self.fc3 = nn.Linear(128, 64)\n",
    "        self.fc4 = nn.Linear(64, 10)\n",
    "        \n",
    "    def forward(self, x):\n",
    "        # make sure input tensor is flattened\n",
    "        x = x.view(x.shape[0], -1)\n",
    "        \n",
    "        x = F.relu(self.fc1(x))\n",
    "        x = F.relu(self.fc2(x))\n",
    "        x = F.relu(self.fc3(x))\n",
    "        x = F.log_softmax(self.fc4(x), dim=1)\n",
    "        \n",
    "        return x"
   ]
  },
  {
   "cell_type": "markdown",
   "metadata": {},
   "source": [
    "The goal of validation is to measure the model's performance on data that isn't part of the training set. Performance here is up to the developer to define though. Typically this is just accuracy, the percentage of classes the network predicted correctly. Other options are [precision and recall](https://en.wikipedia.org/wiki/Precision_and_recall#Definition_(classification_context)) and top-5 error rate. We'll focus on accuracy here. First I'll do a forward pass with one batch from the test set."
   ]
  },
  {
   "cell_type": "code",
   "execution_count": 3,
   "metadata": {},
   "outputs": [
    {
     "name": "stdout",
     "output_type": "stream",
     "text": [
      "torch.Size([64, 10])\n"
     ]
    }
   ],
   "source": [
    "model = Classifier()\n",
    "\n",
    "images, labels = next(iter(testloader))\n",
    "# Get the class probabilities\n",
    "ps = torch.exp(model(images))\n",
    "# Make sure the shape is appropriate, we should get 10 class probabilities for 64 examples\n",
    "print(ps.shape)"
   ]
  },
  {
   "cell_type": "markdown",
   "metadata": {},
   "source": [
    "With the probabilities, we can get the most likely class using the `ps.topk` method. This returns the $k$ highest values. Since we just want the most likely class, we can use `ps.topk(1)`. This returns a tuple of the top-$k$ values and the top-$k$ indices. If the highest value is the fifth element, we'll get back 4 as the index."
   ]
  },
  {
   "cell_type": "code",
   "execution_count": 4,
   "metadata": {
    "scrolled": true
   },
   "outputs": [
    {
     "name": "stdout",
     "output_type": "stream",
     "text": [
      "tensor([[1],\n",
      "        [1],\n",
      "        [1],\n",
      "        [1],\n",
      "        [1],\n",
      "        [1],\n",
      "        [1],\n",
      "        [1],\n",
      "        [1],\n",
      "        [1]])\n"
     ]
    }
   ],
   "source": [
    "top_p, top_class = ps.topk(1, dim=1)\n",
    "# Look at the most likely classes for the first 10 examples\n",
    "print(top_class[:10,:])"
   ]
  },
  {
   "cell_type": "markdown",
   "metadata": {},
   "source": [
    "Now we can check if the predicted classes match the labels. This is simple to do by equating `top_class` and `labels`, but we have to be careful of the shapes. Here `top_class` is a 2D tensor with shape `(64, 1)` while `labels` is 1D with shape `(64)`. To get the equality to work out the way we want, `top_class` and `labels` must have the same shape.\n",
    "\n",
    "If we do\n",
    "\n",
    "```python\n",
    "equals = top_class == labels\n",
    "```\n",
    "\n",
    "`equals` will have shape `(64, 64)`, try it yourself. What it's doing is comparing the one element in each row of `top_class` with each element in `labels` which returns 64 True/False boolean values for each row."
   ]
  },
  {
   "cell_type": "code",
   "execution_count": 5,
   "metadata": {},
   "outputs": [
    {
     "name": "stdout",
     "output_type": "stream",
     "text": [
      "torch.Size([64, 1])\n"
     ]
    }
   ],
   "source": [
    "equals = top_class == labels.view(*top_class.shape)\n",
    "print(equals.shape)"
   ]
  },
  {
   "cell_type": "markdown",
   "metadata": {},
   "source": [
    "Now we need to calculate the percentage of correct predictions. `equals` has binary values, either 0 or 1. This means that if we just sum up all the values and divide by the number of values, we get the percentage of correct predictions. This is the same operation as taking the mean, so we can get the accuracy with a call to `torch.mean`. If only it was that simple. If you try `torch.mean(equals)`, you'll get an error\n",
    "\n",
    "```\n",
    "RuntimeError: mean is not implemented for type torch.ByteTensor\n",
    "```\n",
    "\n",
    "This happens because `equals` has type `torch.ByteTensor` but `torch.mean` isn't implemented for tensors with that type. So we'll need to convert `equals` to a float tensor. Note that when we take `torch.mean` it returns a scalar tensor, to get the actual value as a float we'll need to do `accuracy.item()`."
   ]
  },
  {
   "cell_type": "code",
   "execution_count": 6,
   "metadata": {},
   "outputs": [
    {
     "name": "stdout",
     "output_type": "stream",
     "text": [
      "tensor(0.0625)\n",
      "Accuracy: 6.25%\n"
     ]
    }
   ],
   "source": [
    "accuracy = torch.mean(equals.type(torch.FloatTensor))\n",
    "print(accuracy)\n",
    "print(f'Accuracy: {accuracy.item()*100}%')"
   ]
  },
  {
   "cell_type": "markdown",
   "metadata": {},
   "source": [
    "The network is untrained so it's making random guesses and we should see an accuracy around 10%. Now let's train our network and include our validation pass so we can measure how well the network is performing on the test set. Since we're not updating our parameters in the validation pass, we can speed up our code by turning off gradients using `torch.no_grad()`:\n",
    "\n",
    "```python\n",
    "# turn off gradients\n",
    "with torch.no_grad():\n",
    "    # validation pass here\n",
    "    for images, labels in testloader:\n",
    "        ...\n",
    "```\n",
    "\n",
    ">**Exercise:** Implement the validation loop below and print out the total accuracy after the loop. You can largely copy and paste the code from above, but I suggest typing it in because writing it out yourself is essential for building the skill. In general you'll always learn more by typing it rather than copy-pasting. You should be able to get an accuracy above 80%."
   ]
  },
  {
   "cell_type": "code",
   "execution_count": 7,
   "metadata": {},
   "outputs": [
    {
     "name": "stdout",
     "output_type": "stream",
     "text": [
      "Training loss: 0.5123199335357019\n",
      "Validation loss: 0.5272111378277943\n",
      "Validation Accuracy: 62.5%\n",
      "Training loss: 0.39212297246273137\n",
      "Validation loss: 0.406653577924534\n",
      "Validation Accuracy: 100.0%\n",
      "Training loss: 0.35520572186723703\n",
      "Validation loss: 0.3791084646419355\n",
      "Validation Accuracy: 75.0%\n",
      "Training loss: 0.3318468465575023\n",
      "Validation loss: 0.38061057401310866\n",
      "Validation Accuracy: 93.75%\n",
      "Training loss: 0.3180518123005499\n",
      "Validation loss: 0.3820750445696958\n",
      "Validation Accuracy: 75.0%\n",
      "Training loss: 0.30352297889938484\n",
      "Validation loss: 0.3793253528464372\n",
      "Validation Accuracy: 75.0%\n",
      "Training loss: 0.29207294762356956\n",
      "Validation loss: 0.3829156207810542\n",
      "Validation Accuracy: 100.0%\n",
      "Training loss: 0.2801152040788741\n",
      "Validation loss: 0.36908753035934105\n",
      "Validation Accuracy: 100.0%\n",
      "Training loss: 0.27371957626487653\n",
      "Validation loss: 0.3715553071088852\n",
      "Validation Accuracy: 75.0%\n",
      "Training loss: 0.26528112166154105\n",
      "Validation loss: 0.3680046458437944\n",
      "Validation Accuracy: 81.25%\n",
      "Training loss: 0.25685447986438265\n",
      "Validation loss: 0.3664202636973873\n",
      "Validation Accuracy: 81.25%\n",
      "Training loss: 0.25085158728714435\n",
      "Validation loss: 0.3657975231955765\n",
      "Validation Accuracy: 75.0%\n",
      "Training loss: 0.24706416660105623\n",
      "Validation loss: 0.3621928992734593\n",
      "Validation Accuracy: 81.25%\n",
      "Training loss: 0.2429989066356217\n",
      "Validation loss: 0.38584113560000044\n",
      "Validation Accuracy: 100.0%\n",
      "Training loss: 0.23778333140811178\n",
      "Validation loss: 0.3557580196933382\n",
      "Validation Accuracy: 93.75%\n",
      "Training loss: 0.22906946117626326\n",
      "Validation loss: 0.38992429168740655\n",
      "Validation Accuracy: 81.25%\n",
      "Training loss: 0.2240791890913172\n",
      "Validation loss: 0.38604372796738984\n",
      "Validation Accuracy: 81.25%\n",
      "Training loss: 0.22525176846745934\n",
      "Validation loss: 0.38142209723117243\n",
      "Validation Accuracy: 87.5%\n",
      "Training loss: 0.22111896002518217\n",
      "Validation loss: 0.3976419760732894\n",
      "Validation Accuracy: 87.5%\n",
      "Training loss: 0.21549388109001397\n",
      "Validation loss: 0.4079884595362244\n",
      "Validation Accuracy: 87.5%\n",
      "Training loss: 0.21243792593971625\n",
      "Validation loss: 0.4183859718358441\n",
      "Validation Accuracy: 81.25%\n",
      "Training loss: 0.20633424784360663\n",
      "Validation loss: 0.41441229261030815\n",
      "Validation Accuracy: 87.5%\n",
      "Training loss: 0.20928659936639546\n",
      "Validation loss: 0.4038848823802486\n",
      "Validation Accuracy: 93.75%\n",
      "Training loss: 0.1989737967771889\n",
      "Validation loss: 0.42506737627421215\n",
      "Validation Accuracy: 81.25%\n",
      "Training loss: 0.1989800526833992\n",
      "Validation loss: 0.4044268573070787\n",
      "Validation Accuracy: 100.0%\n",
      "Training loss: 0.19751614738088935\n",
      "Validation loss: 0.42479304912363647\n",
      "Validation Accuracy: 81.25%\n",
      "Training loss: 0.19412676500144607\n",
      "Validation loss: 0.4287015201440852\n",
      "Validation Accuracy: 100.0%\n",
      "Training loss: 0.19210055607087068\n",
      "Validation loss: 0.40220823950448614\n",
      "Validation Accuracy: 93.75%\n",
      "Training loss: 0.19320932623626455\n",
      "Validation loss: 0.4003461239159487\n",
      "Validation Accuracy: 93.75%\n",
      "Training loss: 0.1861471889743101\n",
      "Validation loss: 0.43527365879268404\n",
      "Validation Accuracy: 100.0%\n"
     ]
    }
   ],
   "source": [
    "model = Classifier()\n",
    "criterion = nn.NLLLoss()\n",
    "optimizer = optim.Adam(model.parameters(), lr=0.003)\n",
    "\n",
    "epochs = 30\n",
    "steps = 0\n",
    "\n",
    "train_losses, test_losses = [], []\n",
    "for e in range(epochs):\n",
    "    running_loss = 0\n",
    "    for images, labels in trainloader:\n",
    "        \n",
    "        optimizer.zero_grad()\n",
    "        \n",
    "        log_ps = model(images)\n",
    "        loss = criterion(log_ps, labels)\n",
    "        loss.backward()\n",
    "        optimizer.step()\n",
    "        \n",
    "        running_loss += loss.item()\n",
    "        \n",
    "    else:\n",
    "        ## TODO: Implement the validation pass and print out the validation accuracy\n",
    "        \n",
    "        running_val_loss = 0\n",
    "        # turn off gradients\n",
    "        with torch.no_grad():\n",
    "            # validation pass here\n",
    "            for images, labels in testloader:\n",
    "                \n",
    "                log_ps = model(images)\n",
    "                ps = torch.exp(log_ps)\n",
    "                \n",
    "                top_p, top_class = ps.topk(1, dim=1)\n",
    "                equals = top_class == labels.view(*top_class.shape)\n",
    "                \n",
    "                accuracy = torch.mean(equals.type(torch.FloatTensor))\n",
    "                \n",
    "                val_loss = criterion(log_ps, labels)\n",
    "                running_val_loss += val_loss.item()\n",
    "        \n",
    "        print(f\"epoch: {e}\")\n",
    "        print(f\"Training loss: {running_loss/len(trainloader)}\")\n",
    "        print(f\"Validation loss: {running_val_loss/len(testloader)}\")\n",
    "        print(f'Validation Accuracy: {accuracy.item()*100}%')\n",
    "        print(\"\")"
   ]
  },
  {
   "cell_type": "markdown",
   "metadata": {},
   "source": [
    "## Overfitting\n",
    "\n",
    "If we look at the training and validation losses as we train the network, we can see a phenomenon known as overfitting.\n",
    "\n",
    "<img src='assets/overfitting.png' width=450px>\n",
    "\n",
    "The network learns the training set better and better, resulting in lower training losses. However, it starts having problems generalizing to data outside the training set leading to the validation loss increasing. The ultimate goal of any deep learning model is to make predictions on new data, so we should strive to get the lowest validation loss possible. One option is to use the version of the model with the lowest validation loss, here the one around 8-10 training epochs. This strategy is called *early-stopping*. In practice, you'd save the model frequently as you're training then later choose the model with the lowest validation loss.\n",
    "\n",
    "The most common method to reduce overfitting (outside of early-stopping) is *dropout*, where we randomly drop input units. This forces the network to share information between weights, increasing it's ability to generalize to new data. Adding dropout in PyTorch is straightforward using the [`nn.Dropout`](https://pytorch.org/docs/stable/nn.html#torch.nn.Dropout) module.\n",
    "\n",
    "```python\n",
    "class Classifier(nn.Module):\n",
    "    def __init__(self):\n",
    "        super().__init__()\n",
    "        self.fc1 = nn.Linear(784, 256)\n",
    "        self.fc2 = nn.Linear(256, 128)\n",
    "        self.fc3 = nn.Linear(128, 64)\n",
    "        self.fc4 = nn.Linear(64, 10)\n",
    "        \n",
    "        # Dropout module with 0.2 drop probability\n",
    "        self.dropout = nn.Dropout(p=0.2)\n",
    "        \n",
    "    def forward(self, x):\n",
    "        # make sure input tensor is flattened\n",
    "        x = x.view(x.shape[0], -1)\n",
    "        \n",
    "        # Now with dropout\n",
    "        x = self.dropout(F.relu(self.fc1(x)))\n",
    "        x = self.dropout(F.relu(self.fc2(x)))\n",
    "        x = self.dropout(F.relu(self.fc3(x)))\n",
    "        \n",
    "        # output so no dropout here\n",
    "        x = F.log_softmax(self.fc4(x), dim=1)\n",
    "        \n",
    "        return x\n",
    "```\n",
    "\n",
    "During training we want to use dropout to prevent overfitting, but during inference we want to use the entire network. So, we need to turn off dropout during validation, testing, and whenever we're using the network to make predictions. To do this, you use `model.eval()`. This sets the model to evaluation mode where the dropout probability is 0. You can turn dropout back on by setting the model to train mode with `model.train()`. In general, the pattern for the validation loop will look like this, where you turn off gradients, set the model to evaluation mode, calculate the validation loss and metric, then set the model back to train mode.\n",
    "\n",
    "```python\n",
    "# turn off gradients\n",
    "with torch.no_grad():\n",
    "    \n",
    "    # set model to evaluation mode\n",
    "    model.eval()\n",
    "    \n",
    "    # validation pass here\n",
    "    for images, labels in testloader:\n",
    "        ...\n",
    "\n",
    "# set model back to train mode\n",
    "model.train()\n",
    "```"
   ]
  },
  {
   "cell_type": "markdown",
   "metadata": {},
   "source": [
    "> **Exercise:** Add dropout to your model and train it on Fashion-MNIST again. See if you can get a lower validation loss or higher accuracy."
   ]
  },
  {
   "cell_type": "code",
   "execution_count": 8,
   "metadata": {},
   "outputs": [],
   "source": [
    "## TODO: Define your model with dropout added\n",
    "class Classifier(nn.Module):\n",
    "    def __init__(self):\n",
    "        super().__init__()\n",
    "        self.fc1 = nn.Linear(784, 256)\n",
    "        self.fc2 = nn.Linear(256, 128)\n",
    "        self.fc3 = nn.Linear(128, 64)\n",
    "        self.fc4 = nn.Linear(64, 10)\n",
    "        \n",
    "         # Dropout module with 0.2 drop probability\n",
    "        self.dropout = nn.Dropout(p=0.2)\n",
    "\n",
    "        \n",
    "    def forward(self, x):\n",
    "        # make sure input tensor is flattened\n",
    "        x = x.view(x.shape[0], -1)\n",
    "        \n",
    "        '''\n",
    "        Old\n",
    "        x = F.relu(self.fc1(x))\n",
    "        x = F.relu(self.fc2(x))\n",
    "        x = F.relu(self.fc3(x))\n",
    "        x = F.log_softmax(self.fc4(x), dim=1)\n",
    "        '''\n",
    "        \n",
    "         # Now with dropout\n",
    "        x = self.dropout(F.relu(self.fc1(x)))\n",
    "        x = self.dropout(F.relu(self.fc2(x)))\n",
    "        x = self.dropout(F.relu(self.fc3(x)))\n",
    "\n",
    "        # output so no dropout here\n",
    "        x = F.log_softmax(self.fc4(x), dim=1)\n",
    "        \n",
    "        return x"
   ]
  },
  {
   "cell_type": "code",
   "execution_count": 15,
   "metadata": {},
   "outputs": [
    {
     "name": "stdout",
     "output_type": "stream",
     "text": [
      "epoch: 0\n",
      "Training loss: 0.6055723408868572\n",
      "Validation loss: 0.44921900759077377\n",
      "Validation Accuracy: 87.5%\n",
      "\n",
      "epoch: 1\n",
      "Training loss: 0.4829294122040653\n",
      "Validation loss: 0.4395407466277195\n",
      "Validation Accuracy: 93.75%\n",
      "\n",
      "epoch: 2\n",
      "Training loss: 0.4502920203530458\n",
      "Validation loss: 0.41107377837038345\n",
      "Validation Accuracy: 100.0%\n",
      "\n",
      "epoch: 3\n",
      "Training loss: 0.43040334965501514\n",
      "Validation loss: 0.4299943970077357\n",
      "Validation Accuracy: 100.0%\n",
      "\n",
      "epoch: 4\n",
      "Training loss: 0.42325383501012187\n",
      "Validation loss: 0.4137110834478573\n",
      "Validation Accuracy: 93.75%\n",
      "\n",
      "epoch: 5\n",
      "Training loss: 0.41460981613982206\n",
      "Validation loss: 0.42625537998737045\n",
      "Validation Accuracy: 87.5%\n",
      "\n",
      "epoch: 6\n",
      "Training loss: 0.40196763160132143\n",
      "Validation loss: 0.3836126355988205\n",
      "Validation Accuracy: 87.5%\n",
      "\n",
      "epoch: 7\n",
      "Training loss: 0.40247218906561705\n",
      "Validation loss: 0.4042236560089573\n",
      "Validation Accuracy: 68.75%\n",
      "\n",
      "epoch: 8\n",
      "Training loss: 0.39097179156313067\n",
      "Validation loss: 0.3819819062378756\n",
      "Validation Accuracy: 87.5%\n",
      "\n",
      "epoch: 9\n",
      "Training loss: 0.39365017928802637\n",
      "Validation loss: 0.3901883174849164\n",
      "Validation Accuracy: 81.25%\n",
      "\n",
      "epoch: 10\n",
      "Training loss: 0.3918401883370968\n",
      "Validation loss: 0.388091967174202\n",
      "Validation Accuracy: 87.5%\n",
      "\n",
      "epoch: 11\n",
      "Training loss: 0.38310629480492586\n",
      "Validation loss: 0.3880479411714396\n",
      "Validation Accuracy: 68.75%\n",
      "\n",
      "epoch: 12\n",
      "Training loss: 0.3744830069050733\n",
      "Validation loss: 0.38513556103797475\n",
      "Validation Accuracy: 93.75%\n",
      "\n",
      "epoch: 13\n",
      "Training loss: 0.3736503306927203\n",
      "Validation loss: 0.37230073105377753\n",
      "Validation Accuracy: 87.5%\n",
      "\n",
      "epoch: 14\n",
      "Training loss: 0.37008984338468326\n",
      "Validation loss: 0.39553723583935174\n",
      "Validation Accuracy: 75.0%\n",
      "\n",
      "epoch: 15\n",
      "Training loss: 0.3745049759110154\n",
      "Validation loss: 0.3743905888716127\n",
      "Validation Accuracy: 100.0%\n",
      "\n",
      "epoch: 16\n",
      "Training loss: 0.36167420468318945\n",
      "Validation loss: 0.4042215896829678\n",
      "Validation Accuracy: 87.5%\n",
      "\n",
      "epoch: 17\n",
      "Training loss: 0.363763492522654\n",
      "Validation loss: 0.3844216968982842\n",
      "Validation Accuracy: 100.0%\n",
      "\n",
      "epoch: 18\n",
      "Training loss: 0.3614000579886345\n",
      "Validation loss: 0.37171962287775273\n",
      "Validation Accuracy: 75.0%\n",
      "\n",
      "epoch: 19\n",
      "Training loss: 0.3565384476963899\n",
      "Validation loss: 0.41705871064951466\n",
      "Validation Accuracy: 93.75%\n",
      "\n",
      "epoch: 20\n",
      "Training loss: 0.3560611922333617\n",
      "Validation loss: 0.4020294967065951\n",
      "Validation Accuracy: 100.0%\n",
      "\n",
      "epoch: 21\n",
      "Training loss: 0.35024119307523344\n",
      "Validation loss: 0.3819026670827987\n",
      "Validation Accuracy: 87.5%\n",
      "\n",
      "epoch: 22\n",
      "Training loss: 0.35810181315837386\n",
      "Validation loss: 0.3696838941923372\n",
      "Validation Accuracy: 81.25%\n",
      "\n",
      "epoch: 23\n",
      "Training loss: 0.35377907526613805\n",
      "Validation loss: 0.37707509679399476\n",
      "Validation Accuracy: 87.5%\n",
      "\n",
      "epoch: 24\n",
      "Training loss: 0.3530067144347025\n",
      "Validation loss: 0.3890111499531254\n",
      "Validation Accuracy: 75.0%\n",
      "\n",
      "epoch: 25\n",
      "Training loss: 0.3456941477255399\n",
      "Validation loss: 0.38466728023093216\n",
      "Validation Accuracy: 93.75%\n",
      "\n",
      "epoch: 26\n",
      "Training loss: 0.3478012545498958\n",
      "Validation loss: 0.3713726001275573\n",
      "Validation Accuracy: 93.75%\n",
      "\n",
      "epoch: 27\n",
      "Training loss: 0.345641490238816\n",
      "Validation loss: 0.38282908413820205\n",
      "Validation Accuracy: 87.5%\n",
      "\n",
      "epoch: 28\n",
      "Training loss: 0.34265438754802574\n",
      "Validation loss: 0.40761700528822126\n",
      "Validation Accuracy: 93.75%\n",
      "\n",
      "epoch: 29\n",
      "Training loss: 0.34057567624458623\n",
      "Validation loss: 0.37367921744941907\n",
      "Validation Accuracy: 81.25%\n",
      "\n"
     ]
    }
   ],
   "source": [
    "## TODO: Train your model with dropout, and monitor the training progress with the validation loss and accuracy\n",
    "model = Classifier()\n",
    "criterion = nn.NLLLoss()\n",
    "optimizer = optim.Adam(model.parameters(), lr=0.003)\n",
    "\n",
    "epochs = 30\n",
    "steps = 0\n",
    "\n",
    "train_losses, test_losses = [], []\n",
    "for e in range(epochs):\n",
    "    running_loss = 0\n",
    "    for images, labels in trainloader:\n",
    "        \n",
    "        optimizer.zero_grad()\n",
    "        \n",
    "        log_ps = model(images)\n",
    "        loss = criterion(log_ps, labels)\n",
    "        loss.backward()\n",
    "        optimizer.step()\n",
    "        \n",
    "        running_loss += loss.item()\n",
    "        \n",
    "    else:\n",
    "        ## TODO: Implement the validation pass and print out the validation accuracy\n",
    "        \n",
    "        running_val_loss = 0\n",
    "        # turn off gradients\n",
    "        with torch.no_grad():\n",
    "            \n",
    "            # set model to evaluation mode\n",
    "            model.eval()\n",
    "            \n",
    "            # validation pass here\n",
    "            for images, labels in testloader:\n",
    "                \n",
    "                log_ps = model(images)\n",
    "                ps = torch.exp(log_ps)\n",
    "                \n",
    "                top_p, top_class = ps.topk(1, dim=1)\n",
    "                equals = top_class == labels.view(*top_class.shape)\n",
    "                \n",
    "                accuracy = torch.mean(equals.type(torch.FloatTensor))\n",
    "                \n",
    "                val_loss = criterion(log_ps, labels)\n",
    "                running_val_loss += val_loss.item()\n",
    "                \n",
    "        # set model back to train mode\n",
    "        model.train()\n",
    "        \n",
    "        train_losses.append(running_loss/len(trainloader))\n",
    "        test_losses.append(running_val_loss/len(testloader))\n",
    "        \n",
    "        print(f\"epoch: {e}\")\n",
    "        print(f\"Training loss: {running_loss/len(trainloader)}\")\n",
    "        print(f\"Validation loss: {running_val_loss/len(testloader)}\")\n",
    "        print(f'Validation Accuracy: {accuracy.item()*100}%')\n",
    "        print(\"\")"
   ]
  },
  {
   "cell_type": "code",
   "execution_count": 16,
   "metadata": {},
   "outputs": [],
   "source": [
    "%matplotlib inline\n",
    "%config InlineBackend.figure_format = 'retina'\n",
    "\n",
    "import matplotlib.pyplot as plt"
   ]
  },
  {
   "cell_type": "code",
   "execution_count": 17,
   "metadata": {},
   "outputs": [
    {
     "data": {
      "text/plain": [
       "<matplotlib.legend.Legend at 0x2d48fc3d148>"
      ]
     },
     "execution_count": 17,
     "metadata": {},
     "output_type": "execute_result"
    },
    {
     "data": {
      "image/png": "[encoded data removed]",
      "text/plain": [
       "<Figure size 432x288 with 1 Axes>"
      ]
     },
     "metadata": {
      "image/png": {
       "height": 248,
       "width": 380
      },
      "needs_background": "light"
     },
     "output_type": "display_data"
    }
   ],
   "source": [
    "plt.plot(train_losses, label='Training loss')\n",
    "plt.plot(test_losses, label='Validation loss')\n",
    "plt.legend(frameon=False)"
   ]
  },
  {
   "cell_type": "markdown",
   "metadata": {},
   "source": [
    "## Inference\n",
    "\n",
    "Now that the model is trained, we can use it for inference. We've done this before, but now we need to remember to set the model in inference mode with `model.eval()`. You'll also want to turn off autograd with the `torch.no_grad()` context."
   ]
  },
  {
   "cell_type": "code",
   "execution_count": 14,
   "metadata": {},
   "outputs": [
    {
     "data": {
      "image/png": "[encoded data removed]",
      "text/plain": [
       "<Figure size 432x648 with 2 Axes>"
      ]
     },
     "metadata": {
      "needs_background": "light"
     },
     "output_type": "display_data"
    }
   ],
   "source": [
    "# Import helper module (should be in the repo)\n",
    "import helper\n",
    "\n",
    "# Test out your network!\n",
    "\n",
    "model.eval()\n",
    "\n",
    "dataiter = iter(testloader)\n",
    "images, labels = dataiter.next()\n",
    "img = images[0]\n",
    "# Convert 2D image to 1D vector\n",
    "img = img.view(1, 784)\n",
    "\n",
    "# Calculate the class probabilities (softmax) for img\n",
    "with torch.no_grad():\n",
    "    output = model.forward(img)\n",
    "\n",
    "ps = torch.exp(output)\n",
    "\n",
    "# Plot the image and probabilities\n",
    "helper.view_classify(img.view(1, 28, 28), ps, version='Fashion')"
   ]
  },
  {
   "cell_type": "markdown",
   "metadata": {},
   "source": [
    "## Next Up!\n",
    "\n",
    "In the next part, I'll show you how to save your trained models. In general, you won't want to train a model everytime you need it. Instead, you'll train once, save it, then load the model when you want to train more or use if for inference."
   ]
  }
 ],
 "metadata": {
  "kernelspec": {
   "display_name": "Python 3",
   "language": "python",
   "name": "python3"
  },
  "language_info": {
   "codemirror_mode": {
    "name": "ipython",
    "version": 3
   },
   "file_extension": ".py",
   "mimetype": "text/x-python",
   "name": "python",
   "nbconvert_exporter": "python",
   "pygments_lexer": "ipython3",
   "version": "3.7.7"
  }
 },
 "nbformat": 4,
 "nbformat_minor": 2
}
